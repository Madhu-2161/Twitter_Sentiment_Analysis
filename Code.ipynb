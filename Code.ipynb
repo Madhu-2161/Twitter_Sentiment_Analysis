{
 "cells": [
  {
   "cell_type": "markdown",
   "metadata": {},
   "source": [
    "### Environment setup and Log in to Twitter"
   ]
  },
  {
   "cell_type": "code",
   "execution_count": 12,
   "metadata": {},
   "outputs": [],
   "source": [
    "import selenium\n",
    "from selenium import webdriver\n",
    "from selenium.webdriver.chrome.service import Service\n",
    "from selenium.webdriver.common.by import By\n",
    "from selenium.webdriver.common.keys import Keys\n",
    "from time import sleep\n",
    "import getpass"
   ]
  },
  {
   "cell_type": "code",
   "execution_count": 26,
   "metadata": {},
   "outputs": [],
   "source": [
    "my_user = \"madhu_2161\"\n",
    "my_pass = getpass.getpass()"
   ]
  },
  {
   "cell_type": "code",
   "execution_count": 28,
   "metadata": {},
   "outputs": [],
   "source": [
    "search_item = \"Liz Truss\""
   ]
  },
  {
   "cell_type": "code",
   "execution_count": 22,
   "metadata": {},
   "outputs": [],
   "source": [
    "PATH = \"C:\\\\Program Files\\\\chromedriver-win64\\\\chromedriver.exe\"\n",
    "service = Service(PATH)\n",
    "driver = webdriver.Chrome(service=service)\n",
    "\n",
    "driver.get(\"https://twitter.com/i/flow/login\")\n",
    "sleep(3)"
   ]
  },
  {
   "cell_type": "code",
   "execution_count": 24,
   "metadata": {},
   "outputs": [],
   "source": [
    "user_id = driver.find_element(By.XPATH, \"//Input[@type='text']\")\n",
    "user_id.send_keys(my_user)\n",
    "user_id.send_keys(Keys.ENTER)"
   ]
  },
  {
   "cell_type": "code",
   "execution_count": 27,
   "metadata": {},
   "outputs": [],
   "source": [
    "password = driver.find_element(By.XPATH, \"//Input[@type='password']\")\n",
    "password.send_keys(my_pass)\n",
    "password.send_keys(Keys.ENTER)"
   ]
  },
  {
   "cell_type": "code",
   "execution_count": 30,
   "metadata": {},
   "outputs": [],
   "source": [
    "search_box = driver.find_element(By.XPATH, \"//Input[@data-testid='SearchBox_Search_Input']\")\n",
    "search_box.send_keys(search_item)\n",
    "search_box.send_keys(Keys.ENTER)"
   ]
  },
  {
   "cell_type": "code",
   "execution_count": 34,
   "metadata": {},
   "outputs": [],
   "source": [
    "all_tweets = set()\n",
    "\n",
    "tweets = driver.find_elements(By.XPATH, \"//div[@data-testid='tweetText']\")\n",
    "while True:\n",
    "    for tweet in tweets:\n",
    "        all_tweets.add(tweet.text)\n",
    "    driver.execute_script('window.scrollTo(0, document.body.scrollHeight);')\n",
    "    sleep(3)  \n",
    "    tweets = driver.find_elements(By.XPATH, \"//div[@data-testid='tweetText']\")  \n",
    "    if len(all_tweets) > 50:\n",
    "        break"
   ]
  },
  {
   "cell_type": "code",
   "execution_count": 35,
   "metadata": {},
   "outputs": [
    {
     "data": {
      "text/plain": [
       "'I think \\n@RachelReevesMP\\n will be popular... with Liz Truss ! The worst economy crashes in history are on the cards. \\nRachel from the Call Centre I think.. not even Rachel from Accounts. \\nThe Chancellor who had her Government credit card taken off her and claimed for expenses for'"
      ]
     },
     "execution_count": 35,
     "metadata": {},
     "output_type": "execute_result"
    }
   ],
   "source": [
    "all_tweets = list(all_tweets)\n",
    "all_tweets[0]"
   ]
  },
  {
   "cell_type": "markdown",
   "metadata": {},
   "source": [
    "### Cleaning the Tweets"
   ]
  },
  {
   "cell_type": "code",
   "execution_count": 41,
   "metadata": {},
   "outputs": [],
   "source": [
    "import pandas as pd\n",
    "import re\n",
    "pd.options.display.max_colwidth = 1000"
   ]
  },
  {
   "cell_type": "code",
   "execution_count": 39,
   "metadata": {},
   "outputs": [
    {
     "data": {
      "text/html": [
       "<div>\n",
       "<style scoped>\n",
       "    .dataframe tbody tr th:only-of-type {\n",
       "        vertical-align: middle;\n",
       "    }\n",
       "\n",
       "    .dataframe tbody tr th {\n",
       "        vertical-align: top;\n",
       "    }\n",
       "\n",
       "    .dataframe thead th {\n",
       "        text-align: right;\n",
       "    }\n",
       "</style>\n",
       "<table border=\"1\" class=\"dataframe\">\n",
       "  <thead>\n",
       "    <tr style=\"text-align: right;\">\n",
       "      <th></th>\n",
       "      <th>tweets</th>\n",
       "    </tr>\n",
       "  </thead>\n",
       "  <tbody>\n",
       "    <tr>\n",
       "      <th>0</th>\n",
       "      <td>I think \\n@RachelReevesMP\\n will be popular... with Liz Truss ! The worst economy crashes in history are on the cards. \\nRachel from the Call Centre I think.. not even Rachel from Accounts. \\nThe Chancellor who had her Government credit card taken off her and claimed for expenses for</td>\n",
       "    </tr>\n",
       "    <tr>\n",
       "      <th>1</th>\n",
       "      <td>The same Liz Truss that supported people with energy bills and capped them?\\nThe same Liz Truss that reversed Sunak’s NI rise?\\nThe same Liz Truss who was going to cut Income Tax for both basic and higher rate tax payers?\\nThe same Liz Truss vilified for the BoE’s reckless QE?</td>\n",
       "    </tr>\n",
       "    <tr>\n",
       "      <th>2</th>\n",
       "      <td>How come Liz Truss’ line finishes so much sooner than anyone else’s?</td>\n",
       "    </tr>\n",
       "    <tr>\n",
       "      <th>3</th>\n",
       "      <td>Remember his famous beef deal, the one that Liz Truss tried to reverse the next day. Australian Dan Tehan said  your boss has conceded the whole kingdom I would have been sacked immediately if I had gone back with what Bunter had agreed too</td>\n",
       "    </tr>\n",
       "    <tr>\n",
       "      <th>4</th>\n",
       "      <td>Ella es Liz Truss fue la primera liberal libertaria en ser primera ministra de Inglaterra en 2022.\\n\\nHizo un paquetazo de medidas liberales extremas al estilo Milei.  Su gobierno duró solo 44 días . Estas ideas ya fracasaron.</td>\n",
       "    </tr>\n",
       "  </tbody>\n",
       "</table>\n",
       "</div>"
      ],
      "text/plain": [
       "                                                                                                                                                                                                                                                                                         tweets\n",
       "0  I think \\n@RachelReevesMP\\n will be popular... with Liz Truss ! The worst economy crashes in history are on the cards. \\nRachel from the Call Centre I think.. not even Rachel from Accounts. \\nThe Chancellor who had her Government credit card taken off her and claimed for expenses for\n",
       "1         The same Liz Truss that supported people with energy bills and capped them?\\nThe same Liz Truss that reversed Sunak’s NI rise?\\nThe same Liz Truss who was going to cut Income Tax for both basic and higher rate tax payers?\\nThe same Liz Truss vilified for the BoE’s reckless QE?\n",
       "2                                                                                                                                                                                                                          How come Liz Truss’ line finishes so much sooner than anyone else’s?\n",
       "3                                              Remember his famous beef deal, the one that Liz Truss tried to reverse the next day. Australian Dan Tehan said  your boss has conceded the whole kingdom I would have been sacked immediately if I had gone back with what Bunter had agreed too\n",
       "4                                                            Ella es Liz Truss fue la primera liberal libertaria en ser primera ministra de Inglaterra en 2022.\\n\\nHizo un paquetazo de medidas liberales extremas al estilo Milei.  Su gobierno duró solo 44 días . Estas ideas ya fracasaron."
      ]
     },
     "execution_count": 39,
     "metadata": {},
     "output_type": "execute_result"
    }
   ],
   "source": [
    "df = pd.DataFrame(all_tweets, columns=['tweets'])\n",
    "df.head()"
   ]
  },
  {
   "cell_type": "code",
   "execution_count": 44,
   "metadata": {},
   "outputs": [
    {
     "data": {
      "text/plain": [
       "'I think \\n@RachelReevesMP\\n will be popular... with Liz Truss ! The worst economy crashes in history are on the cards. \\nRachel from the Call Centre I think.. not even Rachel from Accounts. \\nThe Chancellor who had her Government credit card taken off her and claimed for expenses for'"
      ]
     },
     "execution_count": 44,
     "metadata": {},
     "output_type": "execute_result"
    }
   ],
   "source": [
    "one_tweet = df.iloc[0]['tweets']\n",
    "one_tweet"
   ]
  },
  {
   "cell_type": "code",
   "execution_count": 45,
   "metadata": {},
   "outputs": [
    {
     "data": {
      "text/plain": [
       "'I think \\n\\n will be popular... with Liz Truss ! The worst economy crashes in history are on the cards. \\nRachel from the Call Centre I think.. not even Rachel from Accounts. \\nThe Chancellor who had her Government credit card taken off her and claimed for expenses for'"
      ]
     },
     "execution_count": 45,
     "metadata": {},
     "output_type": "execute_result"
    }
   ],
   "source": [
    "cleanTweet =re.sub(r\"@[a-zA-Z0-9]+\", \"\", one_tweet)\n",
    "cleanTweet =re.sub(r\"#[a-zA-Z0-9\\s]+\", \"\", cleanTweet)\n",
    "cleanTweet"
   ]
  }
 ],
 "metadata": {
  "kernelspec": {
   "display_name": "Python 3",
   "language": "python",
   "name": "python3"
  },
  "language_info": {
   "codemirror_mode": {
    "name": "ipython",
    "version": 3
   },
   "file_extension": ".py",
   "mimetype": "text/x-python",
   "name": "python",
   "nbconvert_exporter": "python",
   "pygments_lexer": "ipython3",
   "version": "3.12.5"
  }
 },
 "nbformat": 4,
 "nbformat_minor": 2
}
